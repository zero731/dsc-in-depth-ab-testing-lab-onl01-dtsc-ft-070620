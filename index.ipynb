{
 "cells": [
  {
   "cell_type": "markdown",
   "metadata": {},
   "source": [
    "# In Depth A/B Testing - Lab\n",
    "\n",
    "## Introduction\n",
    "\n",
    "In this lab, you'll explore a survey from Kaggle regarding budding data scientists. With this, you'll form some initial hypotheses, and test them using the tools you've acquired to date. \n",
    "\n",
    "## Objectives\n",
    "\n",
    "You will be able to:\n",
    "* Conduct t-tests and an ANOVA on a real-world dataset and interpret the results"
   ]
  },
  {
   "cell_type": "markdown",
   "metadata": {},
   "source": [
    "## Load the Dataset and Perform a Brief Exploration\n",
    "\n",
    "The data is stored in a file called **multipleChoiceResponses_cleaned.csv**. Feel free to check out the original dataset referenced at the bottom of this lab, although this cleaned version will undoubtedly be easier to work with. Additionally, meta-data regarding the questions is stored in a file name **schema.csv**. Load in the data itself as a Pandas DataFrame, and take a moment to briefly get acquainted with it.\n",
    "\n",
    "> Note: If you can't get the file to load properly, try changing the encoding format as in `encoding='latin1'`"
   ]
  },
  {
   "cell_type": "code",
   "execution_count": 115,
   "metadata": {},
   "outputs": [],
   "source": [
    "import pandas as pd\n",
    "import numpy as np\n",
    "import matplotlib.pyplot as plt\n",
    "%matplotlib inline\n",
    "import seaborn as sns\n",
    "sns.set_style('darkgrid')"
   ]
  },
  {
   "cell_type": "code",
   "execution_count": 116,
   "metadata": {},
   "outputs": [
    {
     "name": "stderr",
     "output_type": "stream",
     "text": [
      "/Users/maxsteele/opt/anaconda3/envs/learn-env/lib/python3.6/site-packages/IPython/core/interactiveshell.py:3058: DtypeWarning: Columns (1,2,3,4,5,6,7,8,9,10,11,12,13,14,15,16,17,18,19,20,21,22,23,24,25,26,27,28,29,30,31,32,33,34,35,36,37,38,39,40,41,42,43,44,45,46,47,48,49,50,51,52,53,54,55,56,57,58,65,66,67,68,69,70,71,72,73,74,75,76,77,78,79,80,81,82,83,84,85,86,87,88,89,90,91,92,93,94,95,96,97,98,99,100,101,102,103,104,105,106,107,108,109,110,111,112,113,114,115,116,117,118,119,120,121,122,123,124,125,126,127,128,129,130,131,132,133,134,135,136,137,138,139,140,141,142,143,144,145,146,147,148,149,150,151,152,153,154,155,156,157,158,159,160,161,162,163,164,165,172,173,174,175,176,177,178,179,180,181,182,183,184,185,186,187,188,189,190,191,192,193,194,195,196,197,198,199,200,201,202,203,204,205,207,208,209,210,211,212,213,214,215,216,217,218,219,220,221,222,223,224,225,226,227) have mixed types.Specify dtype option on import or set low_memory=False.\n",
      "  interactivity=interactivity, compiler=compiler, result=result)\n"
     ]
    },
    {
     "data": {
      "text/html": [
       "<div>\n",
       "<style scoped>\n",
       "    .dataframe tbody tr th:only-of-type {\n",
       "        vertical-align: middle;\n",
       "    }\n",
       "\n",
       "    .dataframe tbody tr th {\n",
       "        vertical-align: top;\n",
       "    }\n",
       "\n",
       "    .dataframe thead th {\n",
       "        text-align: right;\n",
       "    }\n",
       "</style>\n",
       "<table border=\"1\" class=\"dataframe\">\n",
       "  <thead>\n",
       "    <tr style=\"text-align: right;\">\n",
       "      <th></th>\n",
       "      <th>GenderSelect</th>\n",
       "      <th>Country</th>\n",
       "      <th>Age</th>\n",
       "      <th>EmploymentStatus</th>\n",
       "      <th>StudentStatus</th>\n",
       "      <th>LearningDataScience</th>\n",
       "      <th>CodeWriter</th>\n",
       "      <th>CareerSwitcher</th>\n",
       "      <th>CurrentJobTitleSelect</th>\n",
       "      <th>TitleFit</th>\n",
       "      <th>...</th>\n",
       "      <th>JobFactorTitle</th>\n",
       "      <th>JobFactorCompanyFunding</th>\n",
       "      <th>JobFactorImpact</th>\n",
       "      <th>JobFactorRemote</th>\n",
       "      <th>JobFactorIndustry</th>\n",
       "      <th>JobFactorLeaderReputation</th>\n",
       "      <th>JobFactorDiversity</th>\n",
       "      <th>JobFactorPublishingOpportunity</th>\n",
       "      <th>exchangeRate</th>\n",
       "      <th>AdjustedCompensation</th>\n",
       "    </tr>\n",
       "  </thead>\n",
       "  <tbody>\n",
       "    <tr>\n",
       "      <th>0</th>\n",
       "      <td>Non-binary, genderqueer, or gender non-conforming</td>\n",
       "      <td>NaN</td>\n",
       "      <td>NaN</td>\n",
       "      <td>Employed full-time</td>\n",
       "      <td>NaN</td>\n",
       "      <td>NaN</td>\n",
       "      <td>Yes</td>\n",
       "      <td>NaN</td>\n",
       "      <td>DBA/Database Engineer</td>\n",
       "      <td>Fine</td>\n",
       "      <td>...</td>\n",
       "      <td>NaN</td>\n",
       "      <td>NaN</td>\n",
       "      <td>NaN</td>\n",
       "      <td>NaN</td>\n",
       "      <td>NaN</td>\n",
       "      <td>NaN</td>\n",
       "      <td>NaN</td>\n",
       "      <td>NaN</td>\n",
       "      <td>NaN</td>\n",
       "      <td>NaN</td>\n",
       "    </tr>\n",
       "    <tr>\n",
       "      <th>1</th>\n",
       "      <td>Female</td>\n",
       "      <td>United States</td>\n",
       "      <td>30.0</td>\n",
       "      <td>Not employed, but looking for work</td>\n",
       "      <td>NaN</td>\n",
       "      <td>NaN</td>\n",
       "      <td>NaN</td>\n",
       "      <td>NaN</td>\n",
       "      <td>NaN</td>\n",
       "      <td>NaN</td>\n",
       "      <td>...</td>\n",
       "      <td>NaN</td>\n",
       "      <td>NaN</td>\n",
       "      <td>NaN</td>\n",
       "      <td>NaN</td>\n",
       "      <td>NaN</td>\n",
       "      <td>Somewhat important</td>\n",
       "      <td>NaN</td>\n",
       "      <td>NaN</td>\n",
       "      <td>NaN</td>\n",
       "      <td>NaN</td>\n",
       "    </tr>\n",
       "    <tr>\n",
       "      <th>2</th>\n",
       "      <td>Male</td>\n",
       "      <td>Canada</td>\n",
       "      <td>28.0</td>\n",
       "      <td>Not employed, but looking for work</td>\n",
       "      <td>NaN</td>\n",
       "      <td>NaN</td>\n",
       "      <td>NaN</td>\n",
       "      <td>NaN</td>\n",
       "      <td>NaN</td>\n",
       "      <td>NaN</td>\n",
       "      <td>...</td>\n",
       "      <td>Very Important</td>\n",
       "      <td>Very Important</td>\n",
       "      <td>Very Important</td>\n",
       "      <td>Very Important</td>\n",
       "      <td>Very Important</td>\n",
       "      <td>Very Important</td>\n",
       "      <td>Very Important</td>\n",
       "      <td>Very Important</td>\n",
       "      <td>NaN</td>\n",
       "      <td>NaN</td>\n",
       "    </tr>\n",
       "    <tr>\n",
       "      <th>3</th>\n",
       "      <td>Male</td>\n",
       "      <td>United States</td>\n",
       "      <td>56.0</td>\n",
       "      <td>Independent contractor, freelancer, or self-em...</td>\n",
       "      <td>NaN</td>\n",
       "      <td>NaN</td>\n",
       "      <td>Yes</td>\n",
       "      <td>NaN</td>\n",
       "      <td>Operations Research Practitioner</td>\n",
       "      <td>Poorly</td>\n",
       "      <td>...</td>\n",
       "      <td>NaN</td>\n",
       "      <td>NaN</td>\n",
       "      <td>NaN</td>\n",
       "      <td>NaN</td>\n",
       "      <td>NaN</td>\n",
       "      <td>NaN</td>\n",
       "      <td>NaN</td>\n",
       "      <td>NaN</td>\n",
       "      <td>1.0</td>\n",
       "      <td>250000.0</td>\n",
       "    </tr>\n",
       "    <tr>\n",
       "      <th>4</th>\n",
       "      <td>Male</td>\n",
       "      <td>Taiwan</td>\n",
       "      <td>38.0</td>\n",
       "      <td>Employed full-time</td>\n",
       "      <td>NaN</td>\n",
       "      <td>NaN</td>\n",
       "      <td>Yes</td>\n",
       "      <td>NaN</td>\n",
       "      <td>Computer Scientist</td>\n",
       "      <td>Fine</td>\n",
       "      <td>...</td>\n",
       "      <td>NaN</td>\n",
       "      <td>NaN</td>\n",
       "      <td>NaN</td>\n",
       "      <td>NaN</td>\n",
       "      <td>NaN</td>\n",
       "      <td>NaN</td>\n",
       "      <td>NaN</td>\n",
       "      <td>NaN</td>\n",
       "      <td>NaN</td>\n",
       "      <td>NaN</td>\n",
       "    </tr>\n",
       "  </tbody>\n",
       "</table>\n",
       "<p>5 rows × 230 columns</p>\n",
       "</div>"
      ],
      "text/plain": [
       "                                        GenderSelect        Country   Age  \\\n",
       "0  Non-binary, genderqueer, or gender non-conforming            NaN   NaN   \n",
       "1                                             Female  United States  30.0   \n",
       "2                                               Male         Canada  28.0   \n",
       "3                                               Male  United States  56.0   \n",
       "4                                               Male         Taiwan  38.0   \n",
       "\n",
       "                                    EmploymentStatus StudentStatus  \\\n",
       "0                                 Employed full-time           NaN   \n",
       "1                 Not employed, but looking for work           NaN   \n",
       "2                 Not employed, but looking for work           NaN   \n",
       "3  Independent contractor, freelancer, or self-em...           NaN   \n",
       "4                                 Employed full-time           NaN   \n",
       "\n",
       "  LearningDataScience CodeWriter CareerSwitcher  \\\n",
       "0                 NaN        Yes            NaN   \n",
       "1                 NaN        NaN            NaN   \n",
       "2                 NaN        NaN            NaN   \n",
       "3                 NaN        Yes            NaN   \n",
       "4                 NaN        Yes            NaN   \n",
       "\n",
       "              CurrentJobTitleSelect TitleFit  ...  JobFactorTitle  \\\n",
       "0             DBA/Database Engineer     Fine  ...             NaN   \n",
       "1                               NaN      NaN  ...             NaN   \n",
       "2                               NaN      NaN  ...  Very Important   \n",
       "3  Operations Research Practitioner   Poorly  ...             NaN   \n",
       "4                Computer Scientist     Fine  ...             NaN   \n",
       "\n",
       "  JobFactorCompanyFunding JobFactorImpact JobFactorRemote JobFactorIndustry  \\\n",
       "0                     NaN             NaN             NaN               NaN   \n",
       "1                     NaN             NaN             NaN               NaN   \n",
       "2          Very Important  Very Important  Very Important    Very Important   \n",
       "3                     NaN             NaN             NaN               NaN   \n",
       "4                     NaN             NaN             NaN               NaN   \n",
       "\n",
       "  JobFactorLeaderReputation JobFactorDiversity JobFactorPublishingOpportunity  \\\n",
       "0                       NaN                NaN                            NaN   \n",
       "1        Somewhat important                NaN                            NaN   \n",
       "2            Very Important     Very Important                 Very Important   \n",
       "3                       NaN                NaN                            NaN   \n",
       "4                       NaN                NaN                            NaN   \n",
       "\n",
       "  exchangeRate AdjustedCompensation  \n",
       "0          NaN                  NaN  \n",
       "1          NaN                  NaN  \n",
       "2          NaN                  NaN  \n",
       "3          1.0             250000.0  \n",
       "4          NaN                  NaN  \n",
       "\n",
       "[5 rows x 230 columns]"
      ]
     },
     "execution_count": 116,
     "metadata": {},
     "output_type": "execute_result"
    }
   ],
   "source": [
    "df = pd.read_csv('multipleChoiceResponses_cleaned.csv', encoding='latin1')\n",
    "df.head()"
   ]
  },
  {
   "cell_type": "code",
   "execution_count": 117,
   "metadata": {},
   "outputs": [
    {
     "name": "stdout",
     "output_type": "stream",
     "text": [
      "<class 'pandas.core.frame.DataFrame'>\n",
      "RangeIndex: 26394 entries, 0 to 26393\n",
      "Columns: 230 entries, GenderSelect to AdjustedCompensation\n",
      "dtypes: float64(15), object(215)\n",
      "memory usage: 46.3+ MB\n"
     ]
    }
   ],
   "source": [
    "df.info()"
   ]
  },
  {
   "cell_type": "markdown",
   "metadata": {},
   "source": [
    "## Wages and Education\n",
    "\n",
    "You've been asked to determine whether education is impactful to salary. Develop a hypothesis test to compare the salaries of those with Master's degrees to those with Bachelor's degrees. Are the two statistically different according to your results?\n",
    "\n",
    "> Note: The relevant features are stored in the 'FormalEducation' and 'AdjustedCompensation' features.\n",
    "\n",
    "You may import the functions stored in the `flatiron_stats.py` file to help perform your hypothesis tests. It contains the stats functions that you previously coded: `welch_t(a,b)`, `welch_df(a, b)`, and `p_value(a, b, two_sided=False)`. \n",
    "\n",
    "Note that `scipy.stats.ttest_ind(a, b, equal_var=False)` performs a two-sided Welch's t-test and that p-values derived from two-sided tests are two times the p-values derived from one-sided tests. See the [documentation](https://docs.scipy.org/doc/scipy/reference/generated/scipy.stats.ttest_ind.html) for more information.    "
   ]
  },
  {
   "cell_type": "code",
   "execution_count": 118,
   "metadata": {},
   "outputs": [
    {
     "data": {
      "text/plain": [
       "Master's degree                                                      8204\n",
       "Bachelor's degree                                                    4811\n",
       "Doctoral degree                                                      3543\n",
       "Some college/university study without earning a bachelor's degree     786\n",
       "Professional degree                                                   451\n",
       "I did not complete any formal education past high school              257\n",
       "I prefer not to answer                                                 90\n",
       "Name: FormalEducation, dtype: int64"
      ]
     },
     "execution_count": 118,
     "metadata": {},
     "output_type": "execute_result"
    }
   ],
   "source": [
    "df['FormalEducation'].value_counts()"
   ]
  },
  {
   "cell_type": "code",
   "execution_count": 119,
   "metadata": {
    "scrolled": true
   },
   "outputs": [
    {
     "data": {
      "text/plain": [
       "100000.000000    60\n",
       "120000.000000    59\n",
       "150000.000000    58\n",
       "71749.560000     47\n",
       "50000.000000     45\n",
       "                 ..\n",
       "70786.560000      1\n",
       "6880.782804       1\n",
       "36344.944000      1\n",
       "106563.600000     1\n",
       "48126.250000      1\n",
       "Name: AdjustedCompensation, Length: 1627, dtype: int64"
      ]
     },
     "execution_count": 119,
     "metadata": {},
     "output_type": "execute_result"
    }
   ],
   "source": [
    "df['AdjustedCompensation'].value_counts()"
   ]
  },
  {
   "cell_type": "code",
   "execution_count": 120,
   "metadata": {},
   "outputs": [
    {
     "data": {
      "text/plain": [
       "6636071.346861625"
      ]
     },
     "execution_count": 120,
     "metadata": {},
     "output_type": "execute_result"
    }
   ],
   "source": [
    "df['AdjustedCompensation'].mean()"
   ]
  },
  {
   "cell_type": "code",
   "execution_count": 121,
   "metadata": {},
   "outputs": [
    {
     "name": "stdout",
     "output_type": "stream",
     "text": [
      "1990\n"
     ]
    },
    {
     "data": {
      "text/plain": [
       "3     250000.000\n",
       "14     36634.400\n",
       "27     53352.000\n",
       "31     35419.104\n",
       "37     80000.000\n",
       "Name: AdjustedCompensation, dtype: float64"
      ]
     },
     "execution_count": 121,
     "metadata": {},
     "output_type": "execute_result"
    }
   ],
   "source": [
    "ms_deg = df.groupby(['FormalEducation']).get_group('Master\\'s degree')['AdjustedCompensation'].dropna()\n",
    "print(len(ms_deg))\n",
    "ms_deg.head()"
   ]
  },
  {
   "cell_type": "code",
   "execution_count": 122,
   "metadata": {},
   "outputs": [
    {
     "name": "stdout",
     "output_type": "stream",
     "text": [
      "1107\n"
     ]
    },
    {
     "data": {
      "text/plain": [
       "8     64184.800\n",
       "9     20882.400\n",
       "11     1483.900\n",
       "21    20000.000\n",
       "25    10858.848\n",
       "Name: AdjustedCompensation, dtype: float64"
      ]
     },
     "execution_count": 122,
     "metadata": {},
     "output_type": "execute_result"
    }
   ],
   "source": [
    "bs_deg = df.groupby(['FormalEducation']).get_group('Bachelor\\'s degree')['AdjustedCompensation'].dropna()\n",
    "print(len(bs_deg))\n",
    "bs_deg.head()"
   ]
  },
  {
   "cell_type": "code",
   "execution_count": 123,
   "metadata": {},
   "outputs": [
    {
     "name": "stdout",
     "output_type": "stream",
     "text": [
      "18367624245.044666 94209629758.56929\n"
     ]
    }
   ],
   "source": [
    "print(np.var(ms_deg, ddof=1), np.var(bs_deg, ddof=1))\n",
    "# likely that the variances are unequal"
   ]
  },
  {
   "cell_type": "code",
   "execution_count": 124,
   "metadata": {},
   "outputs": [
    {
     "name": "stdout",
     "output_type": "stream",
     "text": [
      "69139.8998712 64887.097994618794\n"
     ]
    }
   ],
   "source": [
    "print(np.mean(ms_deg), np.mean(bs_deg))"
   ]
  },
  {
   "cell_type": "code",
   "execution_count": 125,
   "metadata": {},
   "outputs": [
    {
     "data": {
      "text/plain": [
       "0.6615527890254489"
      ]
     },
     "execution_count": 125,
     "metadata": {},
     "output_type": "execute_result"
    }
   ],
   "source": [
    "# The two groups are of very different sizes (4811 with a bachelor's and 8204 with a master's), \n",
    "# so need to use Welch's t \n",
    "# Would assume that higher degree means higher pay, but let's do more conservative two-tail test just in case\n",
    "import flatiron_stats as fst\n",
    "fst.p_value_welch_ttest(ms_deg, bs_deg, two_sided=True)\n",
    "# p-value much greater than alpha of 0.05, so unable to reject the null that the two groups are no \n",
    "# different in terms of mean compensation\n",
    "# (note that would still fail to reject the null if used the one-tail test, because its p-value \n",
    "# would be half of what we got for the two-tail test, which would still be greater than 0.05)"
   ]
  },
  {
   "cell_type": "code",
   "execution_count": 126,
   "metadata": {
    "scrolled": true
   },
   "outputs": [
    {
     "data": {
      "text/plain": [
       "<matplotlib.legend.Legend at 0x7fd2507a3e48>"
      ]
     },
     "execution_count": 126,
     "metadata": {},
     "output_type": "execute_result"
    },
    {
     "data": {
      "image/png": "[encoded data removed]",
      "text/plain": [
       "<Figure size 432x288 with 1 Axes>"
      ]
     },
     "metadata": {},
     "output_type": "display_data"
    }
   ],
   "source": [
    "# but let's take a look at the distributions and see if there are any outliers\n",
    "sns.distplot(ms_deg, label='Master\\'s')\n",
    "sns.distplot(bs_deg, label='Bachelor\\'s')\n",
    "plt.legend()\n",
    "# definitely some outliers, really can't see much from this plot"
   ]
  },
  {
   "cell_type": "code",
   "execution_count": 127,
   "metadata": {},
   "outputs": [
    {
     "name": "stdout",
     "output_type": "stream",
     "text": [
      "Comparison of Adjusted Compensation for Master's vs Bachelor's\n",
      "Median Values: \tms_deg: 53812.17 \tbs_deg: 38399.4\n",
      "Mean Values: \tms_deg: 69139.9 \tbs_deg: 64887.1\n",
      "Sample Sizes: \tms_deg: 1990 \tbs_deg: 1107\n",
      "Welch's t test p-value: 0.33077639451272445\n"
     ]
    }
   ],
   "source": [
    "print('Comparison of Adjusted Compensation for Master\\'s vs Bachelor\\'s')\n",
    "print('Median Values: \\tms_deg: {} \\tbs_deg: {}'.format(round(ms_deg.median(),2), round(bs_deg.median(), 2)))\n",
    "print('Mean Values: \\tms_deg: {} \\tbs_deg: {}'.format(round(ms_deg.mean(),2), round(bs_deg.mean(), 2)))\n",
    "print('Sample Sizes: \\tms_deg: {} \\tbs_deg: {}'.format(len(ms_deg), len(bs_deg)))\n",
    "print('Welch\\'s t test p-value:', fst.p_value_welch_ttest(ms_deg, bs_deg)) # one tail default\n",
    "# median for Master's is much higher (nearly $15k more), \n",
    "# but means are not all that different (less than $5k more for Master's on average)"
   ]
  },
  {
   "cell_type": "code",
   "execution_count": 128,
   "metadata": {
    "scrolled": false
   },
   "outputs": [
    {
     "name": "stdout",
     "output_type": "stream",
     "text": [
      "0.8th percentile:\tMaster's: 103000.0\tBachelor's: 93233.13\n",
      "0.81th percentile:\tMaster's: 107009.0\tBachelor's: 95572.83\n",
      "0.82th percentile:\tMaster's: 110000.0\tBachelor's: 99276.38\n",
      "0.83th percentile:\tMaster's: 111503.83\tBachelor's: 100000.0\n",
      "0.84th percentile:\tMaster's: 115240.4\tBachelor's: 103040.0\n",
      "0.85th percentile:\tMaster's: 119582.6\tBachelor's: 105935.04\n",
      "0.86th percentile:\tMaster's: 120000.0\tBachelor's: 110000.0\n",
      "0.87th percentile:\tMaster's: 124719.88\tBachelor's: 112000.0\n",
      "0.88th percentile:\tMaster's: 129421.46\tBachelor's: 115000.0\n",
      "0.89th percentile:\tMaster's: 130000.0\tBachelor's: 120000.0\n",
      "0.9th percentile:\tMaster's: 135000.0\tBachelor's: 120346.5\n",
      "0.91th percentile:\tMaster's: 140000.0\tBachelor's: 126460.0\n",
      "0.92th percentile:\tMaster's: 149640.0\tBachelor's: 132615.4\n",
      "0.93th percentile:\tMaster's: 150000.0\tBachelor's: 140000.0\n",
      "0.94th percentile:\tMaster's: 160000.0\tBachelor's: 143408.8\n",
      "0.95th percentile:\tMaster's: 166778.6\tBachelor's: 150000.0\n",
      "0.96th percentile:\tMaster's: 180000.0\tBachelor's: 179849.74\n",
      "0.97th percentile:\tMaster's: 200000.0\tBachelor's: 195000.0\n",
      "0.98th percentile:\tMaster's: 211100.0\tBachelor's: 200000.0\n",
      "0.99th percentile:\tMaster's: 250000.0\tBachelor's: 250000.0\n",
      "1.0th percentile:\tMaster's: 4498900.0\tBachelor's: 9999999.0\n"
     ]
    }
   ],
   "source": [
    "# Investigate percentiles\n",
    "for q in np.linspace(0.8, 1, num=21):\n",
    "    ms_q = round(ms_deg.quantile(q=q), 2)\n",
    "    bs_q = round(bs_deg.quantile(q=q), 2)\n",
    "    print('{}th percentile:\\tMaster\\'s: {}\\tBachelor\\'s: {}'.format(round(q,2), ms_q, bs_q))\n",
    "    # obvious outliers for Master's salary - 99th to 100th jumps from $250k to $4.5 mil\n",
    "    # obvious outliers for Bachelor's salary - 99th to 100th jumps from $250k to $9.99 mil"
   ]
  },
  {
   "cell_type": "code",
   "execution_count": 129,
   "metadata": {},
   "outputs": [
    {
     "data": {
      "text/plain": [
       "5"
      ]
     },
     "execution_count": 129,
     "metadata": {},
     "output_type": "execute_result"
    }
   ],
   "source": [
    "sum(ms_deg > 500000) # 5 outliers above $500k for Master's"
   ]
  },
  {
   "cell_type": "code",
   "execution_count": 130,
   "metadata": {},
   "outputs": [
    {
     "data": {
      "text/plain": [
       "4"
      ]
     },
     "execution_count": 130,
     "metadata": {},
     "output_type": "execute_result"
    }
   ],
   "source": [
    "sum(bs_deg > 500000) # 4 outliers above $500k for Bachelor's"
   ]
  },
  {
   "cell_type": "code",
   "execution_count": 131,
   "metadata": {},
   "outputs": [
    {
     "name": "stdout",
     "output_type": "stream",
     "text": [
      "1985\n",
      "1103\n"
     ]
    }
   ],
   "source": [
    "# remove outliers and repeat\n",
    "outlier_cutoff = 500000\n",
    "ms_deg = ms_deg[ms_deg <= outlier_cutoff]\n",
    "print(len(ms_deg))\n",
    "bs_deg = bs_deg[bs_deg <= outlier_cutoff]\n",
    "print(len(bs_deg))"
   ]
  },
  {
   "cell_type": "code",
   "execution_count": 132,
   "metadata": {
    "scrolled": true
   },
   "outputs": [
    {
     "name": "stdout",
     "output_type": "stream",
     "text": [
      "Outliers Removed -- Comparison of Adjusted Compensation for Master's vs Bachelor's\n",
      "Median Values: \tms_deg: 53539.72 \tbs_deg: 38292.15\n",
      "Mean Values: \tms_deg: 63976.63 \tbs_deg: 53744.35\n",
      "Sample Sizes: \tms_deg: 1985 \tbs_deg: 1103\n",
      "Welch's t test p-value: 4.4874583271514723e-07\n"
     ]
    }
   ],
   "source": [
    "print('Outliers Removed -- Comparison of Adjusted Compensation for Master\\'s vs Bachelor\\'s')\n",
    "print('Median Values: \\tms_deg: {} \\tbs_deg: {}'.format(round(ms_deg.median(),2), round(bs_deg.median(), 2)))\n",
    "print('Mean Values: \\tms_deg: {} \\tbs_deg: {}'.format(round(ms_deg.mean(),2), round(bs_deg.mean(), 2)))\n",
    "print('Sample Sizes: \\tms_deg: {} \\tbs_deg: {}'.format(len(ms_deg), len(bs_deg)))\n",
    "print('Welch\\'s t test p-value:', fst.p_value_welch_ttest(ms_deg, bs_deg)) # one tail default\n",
    "# p-value is very small, so find that the 2 groups are sig diff once ouliers have been removed from both"
   ]
  },
  {
   "cell_type": "code",
   "execution_count": 133,
   "metadata": {},
   "outputs": [
    {
     "data": {
      "text/plain": [
       "<matplotlib.legend.Legend at 0x7fd25174add8>"
      ]
     },
     "execution_count": 133,
     "metadata": {},
     "output_type": "execute_result"
    },
    {
     "data": {
      "image/png": "[encoded data removed]",
      "text/plain": [
       "<Figure size 432x288 with 1 Axes>"
      ]
     },
     "metadata": {},
     "output_type": "display_data"
    }
   ],
   "source": [
    "sns.distplot(ms_deg, label='Master\\'s')\n",
    "sns.distplot(bs_deg, label='Bachelor\\'s')\n",
    "plt.legend()"
   ]
  },
  {
   "cell_type": "markdown",
   "metadata": {},
   "source": [
    "## Wages and Education II\n",
    "\n",
    "Now perform a similar statistical test comparing the AdjustedCompensation of those with Bachelor's degrees and those with Doctorates. If you haven't already, be sure to explore the distribution of the AdjustedCompensation feature for any anomalies. "
   ]
  },
  {
   "cell_type": "code",
   "execution_count": 134,
   "metadata": {},
   "outputs": [
    {
     "name": "stdout",
     "output_type": "stream",
     "text": [
      "967\n"
     ]
    },
    {
     "data": {
      "text/plain": [
       "22    100000.000\n",
       "32    172144.440\n",
       "34    133000.000\n",
       "61     15000.000\n",
       "72     43049.736\n",
       "Name: AdjustedCompensation, dtype: float64"
      ]
     },
     "execution_count": 134,
     "metadata": {},
     "output_type": "execute_result"
    }
   ],
   "source": [
    "doc = df.groupby(['FormalEducation']).get_group('Doctoral degree')['AdjustedCompensation'].dropna()\n",
    "print(len(doc))\n",
    "doc.head()"
   ]
  },
  {
   "cell_type": "code",
   "execution_count": 135,
   "metadata": {},
   "outputs": [
    {
     "data": {
      "text/plain": [
       "<AxesSubplot:xlabel='AdjustedCompensation'>"
      ]
     },
     "execution_count": 135,
     "metadata": {},
     "output_type": "execute_result"
    },
    {
     "data": {
      "image/png": "[encoded data removed]",
      "text/plain": [
       "<Figure size 432x288 with 1 Axes>"
      ]
     },
     "metadata": {},
     "output_type": "display_data"
    }
   ],
   "source": [
    "sns.distplot(doc)"
   ]
  },
  {
   "cell_type": "code",
   "execution_count": 140,
   "metadata": {},
   "outputs": [
    {
     "name": "stdout",
     "output_type": "stream",
     "text": [
      "Comparison of Adjusted Compensation for Doctoral vs Bachelor's\n",
      "Median Values: \tdoc: 74131.92 \tbs_deg: 38292.15\n",
      "Mean Values: \tdoc: 29566175.76 \tbs_deg: 53744.35\n",
      "Sample Sizes: \tdoc: 967 \tbs_deg: 1103\n",
      "Welch's t test p-value: 0.15673248591505295\n"
     ]
    }
   ],
   "source": [
    "# try testing before removing any outliers from either group\n",
    "doc = df.groupby(['FormalEducation']).get_group('Doctoral degree')['AdjustedCompensation'].dropna()\n",
    "bs = df.groupby(['FormalEducation']).get_group('Bachelor\\'s degree')['AdjustedCompensation'].dropna()\n",
    "\n",
    "print('Comparison of Adjusted Compensation for Doctoral vs Bachelor\\'s')\n",
    "print('Median Values: \\tdoc: {} \\tbs_deg: {}'.format(round(doc.median(),2), round(bs_deg.median(), 2)))\n",
    "print('Mean Values: \\tdoc: {} \\tbs_deg: {}'.format(round(doc.mean(),2), round(bs_deg.mean(), 2)))\n",
    "print('Sample Sizes: \\tdoc: {} \\tbs_deg: {}'.format(len(doc), len(bs_deg)))\n",
    "print('Welch\\'s t test p-value:', fst.p_value_welch_ttest(doc, bs_deg)) # one tail default\n",
    "# p-value smaller than when comparing Master's vs Bachelor's, but still non-sig at alpha = 0.05"
   ]
  },
  {
   "cell_type": "code",
   "execution_count": 142,
   "metadata": {},
   "outputs": [
    {
     "name": "stdout",
     "output_type": "stream",
     "text": [
      "0.8th percentile:\tDoctoral: 135000.0\n",
      "0.81th percentile:\tDoctoral: 140000.0\n",
      "0.82th percentile:\tDoctoral: 140000.0\n",
      "0.83th percentile:\tDoctoral: 146796.17\n",
      "0.84th percentile:\tDoctoral: 150000.0\n",
      "0.85th percentile:\tDoctoral: 150000.0\n",
      "0.86th percentile:\tDoctoral: 155000.0\n",
      "0.87th percentile:\tDoctoral: 160000.0\n",
      "0.88th percentile:\tDoctoral: 160000.0\n",
      "0.89th percentile:\tDoctoral: 166480.0\n",
      "0.9th percentile:\tDoctoral: 172057.78\n",
      "0.91th percentile:\tDoctoral: 175000.0\n",
      "0.92th percentile:\tDoctoral: 181555.2\n",
      "0.93th percentile:\tDoctoral: 191900.0\n",
      "0.94th percentile:\tDoctoral: 200000.0\n",
      "0.95th percentile:\tDoctoral: 200000.0\n",
      "0.96th percentile:\tDoctoral: 220999.61\n",
      "0.97th percentile:\tDoctoral: 240879.14\n",
      "0.98th percentile:\tDoctoral: 277349.78\n",
      "0.99th percentile:\tDoctoral: 336800.0\n",
      "1.0th percentile:\tDoctoral: 28297400000.0\n"
     ]
    }
   ],
   "source": [
    "for q in np.linspace(0.8, 1, num=21):\n",
    "    doc_q = round(doc.quantile(q=q), 2)\n",
    "    print('{}th percentile:\\tDoctoral: {}'.format(round(q,2), doc_q))\n",
    "    # obvious outliers for Doctoral salary - 99th to 100th jumps from $337k to $28.3 mil"
   ]
  },
  {
   "cell_type": "code",
   "execution_count": 143,
   "metadata": {},
   "outputs": [
    {
     "data": {
      "text/plain": [
       "3"
      ]
     },
     "execution_count": 143,
     "metadata": {},
     "output_type": "execute_result"
    }
   ],
   "source": [
    "outlier_cutoff = 500000\n",
    "sum(doc >= outlier_cutoff)"
   ]
  },
  {
   "cell_type": "code",
   "execution_count": 145,
   "metadata": {},
   "outputs": [
    {
     "name": "stdout",
     "output_type": "stream",
     "text": [
      "964\n",
      "1103\n"
     ]
    }
   ],
   "source": [
    "# remove outliers and repeat\n",
    "doc = doc[doc <= outlier_cutoff]\n",
    "bs_deg = bs_deg[bs_deg <= outlier_cutoff]\n",
    "print(len(doc))\n",
    "print(len(bs_deg))"
   ]
  },
  {
   "cell_type": "code",
   "execution_count": 146,
   "metadata": {},
   "outputs": [
    {
     "name": "stdout",
     "output_type": "stream",
     "text": [
      "Outliers Removed -- Comparison of Adjusted Compensation for Doctoral vs Bachelor's\n",
      "Median Values: \tdoc: 73152.77 \tbs_deg: 38292.15\n",
      "Mean Values: \tdoc: 86194.98 \tbs_deg: 53744.35\n",
      "Sample Sizes: \tdoc: 964 \tbs_deg: 1103\n",
      "Welch's t test p-value: 0.0\n"
     ]
    }
   ],
   "source": [
    "print('Outliers Removed -- Comparison of Adjusted Compensation for Doctoral vs Bachelor\\'s')\n",
    "print('Median Values: \\tdoc: {} \\tbs_deg: {}'.format(round(doc.median(),2), round(bs_deg.median(), 2)))\n",
    "print('Mean Values: \\tdoc: {} \\tbs_deg: {}'.format(round(doc.mean(),2), round(bs_deg.mean(), 2)))\n",
    "print('Sample Sizes: \\tdoc: {} \\tbs_deg: {}'.format(len(doc), len(bs_deg)))\n",
    "print('Welch\\'s t test p-value:', fst.p_value_welch_ttest(doc, bs_deg)) # one tail default\n",
    "# p-value << 0.05, so with outliers removed, can reject the null hypothesis and conclude the two groups\n",
    "# have different average salaries"
   ]
  },
  {
   "cell_type": "markdown",
   "metadata": {},
   "source": [
    "## Wages and Education III\n",
    "\n",
    "Remember the multiple comparisons problem; rather than continuing on like this, perform an ANOVA test between the various 'FormalEducation' categories and their relation to 'AdjustedCompensation'."
   ]
  },
  {
   "cell_type": "code",
   "execution_count": 147,
   "metadata": {},
   "outputs": [],
   "source": [
    "import statsmodels.api as sm\n",
    "from statsmodels.formula.api import ols"
   ]
  },
  {
   "cell_type": "code",
   "execution_count": 150,
   "metadata": {},
   "outputs": [
    {
     "name": "stdout",
     "output_type": "stream",
     "text": [
      "                          sum_sq      df         F    PR(>F)\n",
      "C(FormalEducation)  6.540294e+17     6.0  0.590714  0.738044\n",
      "Residual            7.999414e+20  4335.0       NaN       NaN\n"
     ]
    }
   ],
   "source": [
    "formula = '{} ~ C({})'.format('AdjustedCompensation', 'FormalEducation')\n",
    "lm = ols(formula, df).fit()\n",
    "table = sm.stats.anova_lm(lm, typ=2)\n",
    "print(table)\n",
    "# very large p-value, but this is the full dataset that includes known outliers"
   ]
  },
  {
   "cell_type": "code",
   "execution_count": 152,
   "metadata": {},
   "outputs": [
    {
     "name": "stdout",
     "output_type": "stream",
     "text": [
      "                          sum_sq      df          F        PR(>F)\n",
      "C(FormalEducation)  5.841881e+11     6.0  29.224224  1.727132e-34\n",
      "Residual            1.439270e+13  4320.0        NaN           NaN\n"
     ]
    }
   ],
   "source": [
    "# remove known outliers and try again\n",
    "no_outliers = df[df['AdjustedCompensation']<=outlier_cutoff]\n",
    "\n",
    "formula = '{} ~ C({})'.format('AdjustedCompensation', 'FormalEducation')\n",
    "lm = ols(formula, no_outliers).fit()\n",
    "table = sm.stats.anova_lm(lm, typ=2)\n",
    "print(table)\n",
    "# very small p-value now that outliers for 'AdjustedCompensation' have been removed\n",
    "# reject the null hypothesis in favor of the alternative hypothesis that level of education\n",
    "# has an effect on salary"
   ]
  },
  {
   "cell_type": "markdown",
   "metadata": {},
   "source": [
    "## Additional Resources\n",
    "\n",
    "Here's the original source where the data was taken from:  \n",
    "    [Kaggle Machine Learning & Data Science Survey 2017](https://www.kaggle.com/kaggle/kaggle-survey-2017)"
   ]
  },
  {
   "cell_type": "markdown",
   "metadata": {},
   "source": [
    "## Summary\n",
    "\n",
    "In this lab, you practiced conducting actual hypothesis tests on actual data. From this, you saw how dependent results can be on the initial problem formulation, including preprocessing!"
   ]
  }
 ],
 "metadata": {
  "kernelspec": {
   "display_name": "Python 3",
   "language": "python",
   "name": "python3"
  },
  "language_info": {
   "codemirror_mode": {
    "name": "ipython",
    "version": 3
   },
   "file_extension": ".py",
   "mimetype": "text/x-python",
   "name": "python",
   "nbconvert_exporter": "python",
   "pygments_lexer": "ipython3",
   "version": "3.6.9"
  },
  "toc": {
   "base_numbering": 1,
   "nav_menu": {},
   "number_sections": true,
   "sideBar": true,
   "skip_h1_title": false,
   "title_cell": "Table of Contents",
   "title_sidebar": "Contents",
   "toc_cell": false,
   "toc_position": {},
   "toc_section_display": true,
   "toc_window_display": false
  },
  "varInspector": {
   "cols": {
    "lenName": 16,
    "lenType": 16,
    "lenVar": 40
   },
   "kernels_config": {
    "python": {
     "delete_cmd_postfix": "",
     "delete_cmd_prefix": "del ",
     "library": "var_list.py",
     "varRefreshCmd": "print(var_dic_list())"
    },
    "r": {
     "delete_cmd_postfix": ") ",
     "delete_cmd_prefix": "rm(",
     "library": "var_list.r",
     "varRefreshCmd": "cat(var_dic_list()) "
    }
   },
   "types_to_exclude": [
    "module",
    "function",
    "builtin_function_or_method",
    "instance",
    "_Feature"
   ],
   "window_display": false
  }
 },
 "nbformat": 4,
 "nbformat_minor": 2
}
